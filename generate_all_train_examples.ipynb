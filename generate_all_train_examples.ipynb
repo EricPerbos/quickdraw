{
 "cells": [
  {
   "cell_type": "code",
   "execution_count": 1,
   "metadata": {},
   "outputs": [],
   "source": [
    "%matplotlib inline\n",
    "import matplotlib.pyplot as plt\n",
    "import pandas as pd\n",
    "import numpy as np\n",
    "from pathlib import Path\n",
    "\n",
    "from fastai import *\n",
    "from fastai.vision import *\n",
    "\n",
    "import json\n",
    "\n",
    "from utils import *"
   ]
  },
  {
   "cell_type": "markdown",
   "metadata": {},
   "source": [
    "### Generate data from csvs"
   ]
  },
  {
   "cell_type": "code",
   "execution_count": 2,
   "metadata": {},
   "outputs": [],
   "source": [
    "PATH = Path('data/txt/train')"
   ]
  },
  {
   "cell_type": "code",
   "execution_count": 3,
   "metadata": {},
   "outputs": [],
   "source": [
    "def create_train_txts_from_df(path):\n",
    "    df = pd.read_csv(path)\n",
    "    klass = '_'.join(path.stem.split())\n",
    "    (PATH/klass).mkdir(exist_ok=True)\n",
    "    for row in df.iterrows():\n",
    "        example = {\n",
    "            'countrycode': row[1].countrycode,\n",
    "            'drawing': json.loads(row[1].drawing),\n",
    "            'key_id': row[1].key_id,\n",
    "            'recognized': row[1].recognized\n",
    "        }\n",
    "        with open(PATH/klass/f'{example[\"key_id\"]}.txt', mode='w') as f: json.dump(example, f)"
   ]
  },
  {
   "cell_type": "code",
   "execution_count": 4,
   "metadata": {},
   "outputs": [
    {
     "name": "stdout",
     "output_type": "stream",
     "text": [
      "CPU times: user 5h 4min 20s, sys: 41min 8s, total: 5h 45min 28s\n",
      "Wall time: 5h 49min 4s\n"
     ]
    }
   ],
   "source": [
    "%time for p in Path('data/train').iterdir(): create_train_txts_from_df(p)"
   ]
  },
  {
   "cell_type": "code",
   "execution_count": null,
   "metadata": {},
   "outputs": [],
   "source": []
  },
  {
   "cell_type": "code",
   "execution_count": null,
   "metadata": {},
   "outputs": [],
   "source": [
    "%%time\n",
    "\n",
    "countrycodes=set()\n",
    "for p in Path('data/train').iterdir():\n",
    "    df = pd.read_csv(p)\n",
    "    countrycodes = countrycodes.union(set(df.countrycode))\n",
    "pd.to_pickle(countrycodes, 'data/countrycodes.pkl')"
   ]
  }
 ],
 "metadata": {
  "kernelspec": {
   "display_name": "Python 3",
   "language": "python",
   "name": "python3"
  },
  "language_info": {
   "codemirror_mode": {
    "name": "ipython",
    "version": 3
   },
   "file_extension": ".py",
   "mimetype": "text/x-python",
   "name": "python",
   "nbconvert_exporter": "python",
   "pygments_lexer": "ipython3",
   "version": "3.7.0"
  }
 },
 "nbformat": 4,
 "nbformat_minor": 2
}
