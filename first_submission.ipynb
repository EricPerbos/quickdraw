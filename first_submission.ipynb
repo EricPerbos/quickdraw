{
 "cells": [
  {
   "cell_type": "code",
   "execution_count": 1,
   "metadata": {},
   "outputs": [],
   "source": [
    "%matplotlib inline\n",
    "import matplotlib.pyplot as plt\n",
    "import pandas as pd\n",
    "import numpy as np\n",
    "from pathlib import Path\n",
    "from concurrent.futures import ThreadPoolExecutor\n",
    "import cv2\n",
    "import shutil\n",
    "import PIL\n",
    "\n",
    "from fastai import *\n",
    "from fastai.vision import *\n",
    "\n",
    "import json"
   ]
  },
  {
   "cell_type": "code",
   "execution_count": 2,
   "metadata": {},
   "outputs": [],
   "source": [
    "NUM_SAMPLES_PER_CLASS = 1_000\n",
    "NUM_VAL = 50 * 340"
   ]
  },
  {
   "cell_type": "markdown",
   "metadata": {},
   "source": [
    "### Generate data from csvs"
   ]
  },
  {
   "cell_type": "code",
   "execution_count": null,
   "metadata": {},
   "outputs": [],
   "source": [
    "mkdir data/txt"
   ]
  },
  {
   "cell_type": "code",
   "execution_count": null,
   "metadata": {},
   "outputs": [],
   "source": [
    "mkdir data/txt/train"
   ]
  },
  {
   "cell_type": "code",
   "execution_count": 2,
   "metadata": {},
   "outputs": [],
   "source": [
    "mkdir data/txt/test"
   ]
  },
  {
   "cell_type": "code",
   "execution_count": 4,
   "metadata": {},
   "outputs": [],
   "source": [
    "def create_train_txts_from_df(path):\n",
    "    df = pd.read_csv(path)\n",
    "    for row in df.sample(NUM_SAMPLES_PER_CLASS).iterrows():\n",
    "        example = {\n",
    "            'countrycode': row[1].countrycode,\n",
    "            'drawing': json.loads(row[1].drawing),\n",
    "            'key_id': row[1].key_id,\n",
    "            'recognized': row[1].recognized,\n",
    "            'word': '_'.join(row[1].word.split())\n",
    "        }\n",
    "        with open(f'data/txt/train/{example[\"word\"]}_{example[\"key_id\"]}.txt', mode='w') as f: json.dump(example, f)\n",
    "            \n",
    "def create_test_txts_from_df(path):\n",
    "    df = pd.read_csv(path)\n",
    "    for row in df.iterrows():\n",
    "        example = {\n",
    "            'countrycode': row[1].countrycode,\n",
    "            'drawing': json.loads(row[1].drawing),\n",
    "            'key_id': row[1].key_id,\n",
    "            'word': 'unknown'\n",
    "        }\n",
    "        with open(f'data/txt/test/{example[\"word\"]}_{example[\"key_id\"]}.txt', mode='w') as f: json.dump(example, f)"
   ]
  },
  {
   "cell_type": "code",
   "execution_count": 5,
   "metadata": {},
   "outputs": [
    {
     "name": "stdout",
     "output_type": "stream",
     "text": [
      "CPU times: user 27.6 s, sys: 2.5 s, total: 30.1 s\n",
      "Wall time: 30.2 s\n"
     ]
    }
   ],
   "source": [
    "%time create_test_txts_from_df('data/test_simplified.csv')"
   ]
  },
  {
   "cell_type": "code",
   "execution_count": 6,
   "metadata": {},
   "outputs": [
    {
     "name": "stdout",
     "output_type": "stream",
     "text": [
      "CPU times: user 5min 43s, sys: 19.7 s, total: 6min 2s\n",
      "Wall time: 5min 58s\n"
     ]
    }
   ],
   "source": [
    "%time for p in Path('data/train').iterdir(): create_train_txts_from_df(p)"
   ]
  },
  {
   "cell_type": "markdown",
   "metadata": {},
   "source": [
    "###  Create ImageDataBunch using the data block API"
   ]
  },
  {
   "cell_type": "code",
   "execution_count": 3,
   "metadata": {},
   "outputs": [],
   "source": [
    "sz = 128"
   ]
  },
  {
   "cell_type": "code",
   "execution_count": 4,
   "metadata": {},
   "outputs": [
    {
     "name": "stdout",
     "output_type": "stream",
     "text": [
      "CPU times: user 3.83 s, sys: 792 ms, total: 4.62 s\n",
      "Wall time: 4.61 s\n"
     ]
    }
   ],
   "source": [
    "%time inp_list = InputList.from_folder('data/txt/train/')"
   ]
  },
  {
   "cell_type": "code",
   "execution_count": 5,
   "metadata": {},
   "outputs": [
    {
     "name": "stdout",
     "output_type": "stream",
     "text": [
      "CPU times: user 1.09 s, sys: 4 ms, total: 1.1 s\n",
      "Wall time: 1.09 s\n"
     ]
    }
   ],
   "source": [
    "%time label_list = inp_list.label_from_re('\\A([a-zA-Z-_]*)_\\d')"
   ]
  },
  {
   "cell_type": "code",
   "execution_count": 6,
   "metadata": {},
   "outputs": [],
   "source": [
    "idxs = np.arange(label_list.files.shape[0])\n",
    "np.random.shuffle(idxs)\n",
    "val_fns = set(label_list.files[idxs[:NUM_VAL]])"
   ]
  },
  {
   "cell_type": "code",
   "execution_count": 7,
   "metadata": {},
   "outputs": [
    {
     "name": "stdout",
     "output_type": "stream",
     "text": [
      "CPU times: user 380 ms, sys: 8 ms, total: 388 ms\n",
      "Wall time: 386 ms\n"
     ]
    }
   ],
   "source": [
    "%time split = label_list.split_by_files(val_fns)"
   ]
  },
  {
   "cell_type": "code",
   "execution_count": 8,
   "metadata": {},
   "outputs": [
    {
     "name": "stdout",
     "output_type": "stream",
     "text": [
      "CPU times: user 1.32 s, sys: 320 ms, total: 1.64 s\n",
      "Wall time: 1.64 s\n"
     ]
    }
   ],
   "source": [
    "%time _ = split.add_test(InputList.from_folder('data/txt/test/'))"
   ]
  },
  {
   "cell_type": "code",
   "execution_count": 9,
   "metadata": {},
   "outputs": [],
   "source": [
    "classes = set(label_list.labels)\n",
    "\n",
    "# can this change if you train on different data?\n",
    "# could this be useful for prediction / making a submission?\n",
    "#\n",
    "# might want to comment out the creation and saving and only leave loading uncommented on consecutive runs\n",
    "class2idx = {c: i for i, c in enumerate(classes)}\n",
    "idx2class = {i: c for c, i in class2idx.items()}\n",
    "pd.to_pickle(class2idx, 'data/class2idx.pkl')\n",
    "pd.to_pickle(idx2class, 'data/idx2class.pkl')\n",
    "\n",
    "class2idx =pd.read_pickle('data/class2idx.pkl')\n",
    "idx2class = pd.read_pickle('data/idx2class.pkl')"
   ]
  },
  {
   "cell_type": "code",
   "execution_count": 10,
   "metadata": {},
   "outputs": [],
   "source": [
    "# https://www.kaggle.com/gaborfodor/greyscale-mobilenet-lb-0-892\n",
    "BASE_SIZE = 256\n",
    "def list2drawing(raw_strokes, size=sz, lw=6, time_color=False):\n",
    "    img = np.zeros((BASE_SIZE, BASE_SIZE), np.uint8)\n",
    "    for t, stroke in enumerate(raw_strokes):\n",
    "        for i in range(len(stroke[0]) - 1):\n",
    "            color = 255 - min(t, 10) * 13 if time_color else 255\n",
    "            _ = cv2.line(img, (stroke[0][i], stroke[1][i]),\n",
    "                         (stroke[0][i + 1], stroke[1][i + 1]), color, lw)\n",
    "#     img = cv2.copyMakeBorder(img,4,4,4,4,cv2.BORDER_CONSTANT)\n",
    "    if size != BASE_SIZE:\n",
    "        return cv2.resize(img, (size, size), interpolation=cv2.INTER_LINEAR)\n",
    "    else:\n",
    "        return img"
   ]
  },
  {
   "cell_type": "code",
   "execution_count": 11,
   "metadata": {},
   "outputs": [],
   "source": [
    "def drawing2tensor(drawing):\n",
    "    rgb = cv2.cvtColor(drawing,cv2.COLOR_GRAY2RGB)\n",
    "    rgb = rgb.transpose(2,0,1).astype(np.float32)\n",
    "    return torch.from_numpy(rgb)"
   ]
  },
  {
   "cell_type": "code",
   "execution_count": 12,
   "metadata": {},
   "outputs": [],
   "source": [
    "class QuickdrawDataset(DatasetBase):\n",
    "    def __init__(self, x, y):\n",
    "        super().__init__(x, y, classes=list(class2idx.keys()), c=340, task_type=TaskType.Single, class2idx=class2idx)\n",
    "    def _get_x(self,i):\n",
    "        with open(self.x[i]) as f: j = json.load(f)\n",
    "        drawing = list2drawing(j['drawing'])\n",
    "        tensor = drawing2tensor(drawing)\n",
    "        return Image(tensor.div_(255))"
   ]
  },
  {
   "cell_type": "code",
   "execution_count": 13,
   "metadata": {},
   "outputs": [
    {
     "name": "stdout",
     "output_type": "stream",
     "text": [
      "CPU times: user 92 ms, sys: 0 ns, total: 92 ms\n",
      "Wall time: 92.9 ms\n"
     ]
    }
   ],
   "source": [
    "%time dss = split.datasets(QuickdrawDataset)"
   ]
  },
  {
   "cell_type": "code",
   "execution_count": 14,
   "metadata": {},
   "outputs": [],
   "source": [
    "bs = 640"
   ]
  },
  {
   "cell_type": "code",
   "execution_count": 15,
   "metadata": {},
   "outputs": [],
   "source": [
    "train_dl = DataLoader(dss.train_ds, batch_size=bs, shuffle=True, num_workers=12)\n",
    "valid_dl = DataLoader(dss.valid_ds, batch_size=2*bs, shuffle=False, num_workers=12)\n",
    "test_dl = DataLoader(dss.test_ds, batch_size=2*bs, shuffle=False, num_workers=12)"
   ]
  },
  {
   "cell_type": "code",
   "execution_count": 16,
   "metadata": {},
   "outputs": [],
   "source": [
    "data_bunch = ImageDataBunch(train_dl, valid_dl, test_dl)"
   ]
  },
  {
   "cell_type": "code",
   "execution_count": 17,
   "metadata": {},
   "outputs": [
    {
     "data": {
      "image/png": "[encoded data removed]",
      "text/plain": [
       "<Figure size 648x720 with 16 Axes>"
      ]
     },
     "metadata": {},
     "output_type": "display_data"
    }
   ],
   "source": [
    "data_bunch.show_batch(rows=4)"
   ]
  },
  {
   "cell_type": "code",
   "execution_count": 18,
   "metadata": {},
   "outputs": [],
   "source": [
    "# same argument as above - you might want to save this value for later use\n",
    "batch_stats = data_bunch.batch_stats()\n",
    "pd.to_pickle(batch_stats, 'data/batch_stats.pkl')\n",
    "batch_stats = pd.read_pickle('data/batch_stats.pkl')"
   ]
  },
  {
   "cell_type": "code",
   "execution_count": 19,
   "metadata": {},
   "outputs": [],
   "source": [
    "data_bunch.normalize(batch_stats);"
   ]
  },
  {
   "cell_type": "markdown",
   "metadata": {},
   "source": [
    "### Train"
   ]
  },
  {
   "cell_type": "code",
   "execution_count": 20,
   "metadata": {},
   "outputs": [],
   "source": [
    "name = f'res34-{sz}'"
   ]
  },
  {
   "cell_type": "code",
   "execution_count": 21,
   "metadata": {},
   "outputs": [],
   "source": [
    "# https://github.com/benhamner/Metrics/blob/master/Python/ml_metrics/average_precision.py\n",
    "def apk(actual, predicted, k=10):\n",
    "    if len(predicted)>k:\n",
    "        predicted = predicted[:k]\n",
    "\n",
    "    score = 0.0\n",
    "    num_hits = 0.0\n",
    "\n",
    "    for i,p in enumerate(predicted):\n",
    "        if p in actual and p not in predicted[:i]:\n",
    "            num_hits += 1.0\n",
    "            score += num_hits / (i+1.0)\n",
    "\n",
    "    if not actual:\n",
    "        return 0.0\n",
    "\n",
    "    return score / min(len(actual), k)\n",
    "\n",
    "def mapk(actual, predicted, k=10):\n",
    "    return np.mean([apk(a,p,k) for a,p in zip(actual, predicted)])"
   ]
  },
  {
   "cell_type": "code",
   "execution_count": 22,
   "metadata": {},
   "outputs": [],
   "source": [
    "def map3(preds, targs):\n",
    "    predicted_idxs = preds.sort(descending=True)[1]\n",
    "    top_3 = predicted_idxs[:, :3]\n",
    "    res = mapk([[t] for t in targs.cpu().numpy()], top_3.cpu().numpy(), 3)\n",
    "    return torch.tensor(res)"
   ]
  },
  {
   "cell_type": "code",
   "execution_count": 23,
   "metadata": {},
   "outputs": [],
   "source": [
    "learn = create_cnn(data_bunch, models.resnet34, metrics=[accuracy, map3])"
   ]
  },
  {
   "cell_type": "code",
   "execution_count": 24,
   "metadata": {},
   "outputs": [
    {
     "name": "stdout",
     "output_type": "stream",
     "text": [
      "Total time: 06:00\n",
      "epoch  train_loss  valid_loss  accuracy  map3    \n",
      "1      1.922570    1.590134    0.603647  0.692323  (03:01)\n",
      "2      1.648254    1.431858    0.643176  0.726059  (02:58)\n",
      "\n"
     ]
    }
   ],
   "source": [
    "learn.fit_one_cycle(2)"
   ]
  },
  {
   "cell_type": "code",
   "execution_count": 25,
   "metadata": {},
   "outputs": [],
   "source": [
    "learn.save(f'{name}-stage-1')"
   ]
  },
  {
   "cell_type": "code",
   "execution_count": 26,
   "metadata": {},
   "outputs": [],
   "source": [
    "learn.unfreeze()"
   ]
  },
  {
   "cell_type": "code",
   "execution_count": 27,
   "metadata": {},
   "outputs": [
    {
     "name": "stdout",
     "output_type": "stream",
     "text": [
      "Total time: 24:20\n",
      "epoch  train_loss  valid_loss  accuracy  map3    \n",
      "1      1.454356    1.326732    0.665471  0.746039  (04:04)\n",
      "2      1.348246    1.286290    0.670706  0.752647  (04:03)\n",
      "3      1.148621    1.155290    0.703882  0.779373  (04:03)\n",
      "4      0.907140    1.041144    0.738235  0.806618  (04:03)\n",
      "5      0.639917    1.024560    0.743882  0.812265  (04:02)\n",
      "6      0.455252    1.045359    0.745588  0.812676  (04:03)\n",
      "\n"
     ]
    }
   ],
   "source": [
    "learn.fit_one_cycle(6, max_lr=6e-4)"
   ]
  },
  {
   "cell_type": "code",
   "execution_count": 28,
   "metadata": {},
   "outputs": [],
   "source": [
    "learn.save(f'{name}-stage-2')"
   ]
  },
  {
   "cell_type": "markdown",
   "metadata": {},
   "source": [
    "### Predict"
   ]
  },
  {
   "cell_type": "code",
   "execution_count": 29,
   "metadata": {},
   "outputs": [],
   "source": [
    "learn.load(f'{name}-stage-2');"
   ]
  },
  {
   "cell_type": "code",
   "execution_count": 30,
   "metadata": {},
   "outputs": [],
   "source": [
    "preds, _ = learn.get_preds(ds_type=DatasetType.Test)"
   ]
  },
  {
   "cell_type": "code",
   "execution_count": 31,
   "metadata": {},
   "outputs": [],
   "source": [
    "top_3 = np.argsort(preds.numpy())[:, ::-1][:, :3]"
   ]
  },
  {
   "cell_type": "code",
   "execution_count": 32,
   "metadata": {},
   "outputs": [],
   "source": [
    "labels = []\n",
    "for i in range(top_3.shape[0]):\n",
    "    labels.append(' '.join([learn.data.train_ds.classes[idx] for idx in top_3[i]]))"
   ]
  },
  {
   "cell_type": "code",
   "execution_count": 33,
   "metadata": {},
   "outputs": [
    {
     "data": {
      "text/plain": [
       "'map pillow van'"
      ]
     },
     "execution_count": 33,
     "metadata": {},
     "output_type": "execute_result"
    }
   ],
   "source": [
    "labels[1]"
   ]
  },
  {
   "cell_type": "code",
   "execution_count": 34,
   "metadata": {},
   "outputs": [
    {
     "data": {
      "image/jpeg": "[encoded data removed]",
      "image/png": "[encoded data removed]",
      "text/plain": [
       "Image (3, 128, 128)"
      ]
     },
     "execution_count": 34,
     "metadata": {},
     "output_type": "execute_result"
    }
   ],
   "source": [
    "test_dl.dataset[1][0]"
   ]
  },
  {
   "cell_type": "code",
   "execution_count": 35,
   "metadata": {},
   "outputs": [],
   "source": [
    "key_ids = [path.stem.split('_')[1] for path in learn.data.test_dl.dl.dataset.x]"
   ]
  },
  {
   "cell_type": "code",
   "execution_count": 36,
   "metadata": {},
   "outputs": [],
   "source": [
    "os.makedirs(f'subs', exist_ok=True)\n",
    "sub = pd.DataFrame({'key_id': key_ids, 'word': labels})\n",
    "sub.to_csv(f'subs/{name}.csv.gz', index=False, compression='gzip')"
   ]
  },
  {
   "cell_type": "code",
   "execution_count": 37,
   "metadata": {},
   "outputs": [
    {
     "data": {
      "text/html": [
       "<div>\n",
       "<style scoped>\n",
       "    .dataframe tbody tr th:only-of-type {\n",
       "        vertical-align: middle;\n",
       "    }\n",
       "\n",
       "    .dataframe tbody tr th {\n",
       "        vertical-align: top;\n",
       "    }\n",
       "\n",
       "    .dataframe thead th {\n",
       "        text-align: right;\n",
       "    }\n",
       "</style>\n",
       "<table border=\"1\" class=\"dataframe\">\n",
       "  <thead>\n",
       "    <tr style=\"text-align: right;\">\n",
       "      <th></th>\n",
       "      <th>key_id</th>\n",
       "      <th>word</th>\n",
       "    </tr>\n",
       "  </thead>\n",
       "  <tbody>\n",
       "    <tr>\n",
       "      <th>0</th>\n",
       "      <td>9672687488031705</td>\n",
       "      <td>pond bush brain</td>\n",
       "    </tr>\n",
       "    <tr>\n",
       "      <th>1</th>\n",
       "      <td>9031382648572453</td>\n",
       "      <td>map pillow van</td>\n",
       "    </tr>\n",
       "    <tr>\n",
       "      <th>2</th>\n",
       "      <td>9302586427870096</td>\n",
       "      <td>mailbox hammer axe</td>\n",
       "    </tr>\n",
       "    <tr>\n",
       "      <th>3</th>\n",
       "      <td>9627281608087084</td>\n",
       "      <td>see_saw yoga cannon</td>\n",
       "    </tr>\n",
       "    <tr>\n",
       "      <th>4</th>\n",
       "      <td>9502915523656161</td>\n",
       "      <td>hockey_puck pool bottlecap</td>\n",
       "    </tr>\n",
       "  </tbody>\n",
       "</table>\n",
       "</div>"
      ],
      "text/plain": [
       "             key_id                        word\n",
       "0  9672687488031705             pond bush brain\n",
       "1  9031382648572453              map pillow van\n",
       "2  9302586427870096          mailbox hammer axe\n",
       "3  9627281608087084         see_saw yoga cannon\n",
       "4  9502915523656161  hockey_puck pool bottlecap"
      ]
     },
     "execution_count": 37,
     "metadata": {},
     "output_type": "execute_result"
    }
   ],
   "source": [
    "pd.read_csv(f'subs/{name}.csv.gz').head()"
   ]
  },
  {
   "cell_type": "code",
   "execution_count": 38,
   "metadata": {},
   "outputs": [
    {
     "name": "stdout",
     "output_type": "stream",
     "text": [
      "100%|██████████████████████████████████████| 1.52M/1.52M [00:16<00:00, 93.9kB/s]\n",
      "Successfully submitted to Quick, Draw! Doodle Recognition Challenge"
     ]
    }
   ],
   "source": [
    "# !kaggle competitions submit -c quickdraw-doodle-recognition -f subs/{name}.csv.gz -m \"{name}\""
   ]
  }
 ],
 "metadata": {
  "kernelspec": {
   "display_name": "Python 3",
   "language": "python",
   "name": "python3"
  },
  "language_info": {
   "codemirror_mode": {
    "name": "ipython",
    "version": 3
   },
   "file_extension": ".py",
   "mimetype": "text/x-python",
   "name": "python",
   "nbconvert_exporter": "python",
   "pygments_lexer": "ipython3",
   "version": "3.7.0"
  }
 },
 "nbformat": 4,
 "nbformat_minor": 2
}
